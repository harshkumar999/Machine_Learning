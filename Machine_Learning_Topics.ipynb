{
  "nbformat": 4,
  "nbformat_minor": 0,
  "metadata": {
    "colab": {
      "provenance": [],
      "authorship_tag": "ABX9TyM97+7oOgHxhuilSkPMHZKT",
      "include_colab_link": true
    },
    "kernelspec": {
      "name": "python3",
      "display_name": "Python 3"
    },
    "language_info": {
      "name": "python"
    }
  },
  "cells": [
    {
      "cell_type": "markdown",
      "metadata": {
        "id": "view-in-github",
        "colab_type": "text"
      },
      "source": [
        "<a href=\"https://colab.research.google.com/github/harshkumar999/Machine_Learning/blob/main/Machine_Learning_Topics.ipynb\" target=\"_parent\"><img src=\"https://colab.research.google.com/assets/colab-badge.svg\" alt=\"Open In Colab\"/></a>"
      ]
    },
    {
      "cell_type": "markdown",
      "source": [
        "# **Machine Learning**\n",
        "\n",
        "**Supervised**\n",
        "\n",
        "Regression\n",
        "    \n",
        "      Linear Regression\n",
        "      Polynomial Regression\n",
        "      Multilinear Regression\n",
        "      OLS (Ordinary Least Square)\n",
        "      Ridge and Lasso\n",
        "\n",
        "\n",
        "Classification\n",
        "\n",
        "      Logistic Regression\n",
        "      KNN (K-Nearest Neighbors)\n",
        "      Decision Tree\n",
        "      Random Forest\n",
        "      AdaBoost\n",
        "      Gradient Boosting\n",
        "      SVM (Support Vector Machine)\n",
        "      XGBoost\n",
        "      Naive Bayes\n",
        "\n",
        "\n",
        "**Unsupervised**\n",
        "                                                              \n",
        "Clustering\n",
        "      \n",
        "        K-Means\n",
        "        DBSCAN\n",
        "        Hierarchical\n",
        "        Silhouette Method\n",
        "\n",
        "\n",
        "Recommadation\n",
        "\n",
        "        Item Based\n",
        "        User Based\n",
        "        Hybrid\n",
        "        Collobarating Filtering    \n",
        "\n",
        "\n",
        "Dimensionality Reduction\n",
        "        \n",
        "        PCA (Principal Component Aanlysis)\n",
        "        Auto Encoding\n",
        "        SVD          \n"
      ],
      "metadata": {
        "id": "fgVzqCre1EuZ"
      }
    }
  ]
}